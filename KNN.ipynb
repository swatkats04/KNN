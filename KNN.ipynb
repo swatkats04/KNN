{
 "cells": [
  {
   "cell_type": "markdown",
   "metadata": {},
   "source": [
    "# Problem Statement"
   ]
  },
  {
   "cell_type": "markdown",
   "metadata": {},
   "source": [
    "To predict the weight using KNN algorithm without the usage of any packages."
   ]
  },
  {
   "cell_type": "markdown",
   "metadata": {},
   "source": [
    "## Formulas used"
   ]
  },
  {
   "cell_type": "markdown",
   "metadata": {},
   "source": [
    "Euclidean distance formula-The distance two points\n",
    "(x1,y1) and (x2,y2) is given by the formula : [(x2-x1)2 +(y2-y1)2] 1/2 "
   ]
  },
  {
   "cell_type": "markdown",
   "metadata": {},
   "source": [
    "## Algorithm"
   ]
  },
  {
   "cell_type": "markdown",
   "metadata": {},
   "source": [
    "Step1: Start\n",
    "\n",
    "Step 2: Load the train data\n",
    "\n",
    "Step 3: Load the test data\n",
    "\n",
    "Step 4: Assign k values\n",
    "\n",
    "Step 5: Assign target variable\n",
    "\n",
    "Step 6: Create the variable to store the predicted targeted values\n",
    "\n",
    "Step 7: Repeat through the steps:\n",
    "\n",
    "- Find the difference matrix\n",
    " \n",
    "- Compute the distance using Euclidean distance formula\n",
    " \n",
    "- Sort the train data in ascending order w.r.t the distances\n",
    " \n",
    "- Compute average of the first k terms of train dataset. \n",
    " \n",
    "- Append to predicted targeted values.\n",
    " \n",
    "Step 8: Display the predicted targeted values\n",
    "\n",
    "Step 9: Stop\n"
   ]
  },
  {
   "cell_type": "markdown",
   "metadata": {},
   "source": [
    "## Code"
   ]
  },
  {
   "cell_type": "code",
   "execution_count": 1,
   "metadata": {},
   "outputs": [
    {
     "data": {
      "text/plain": [
       "'\\n@script-author: Sachin Selvan\\n@script-description:To predict the value using knn algorithm without\\n packages\\n@script-start date:09.01.20\\n@script-last updated:14.01.20 \\n'"
      ]
     },
     "execution_count": 1,
     "metadata": {},
     "output_type": "execute_result"
    }
   ],
   "source": [
    "\"\"\"\n",
    "@script-author: Sachin Selvan\n",
    "@script-description:To predict the value using knn algorithm without\n",
    " packages\n",
    "@script-start date:09.01.20\n",
    "@script-last updated:14.01.20 \n",
    "\"\"\""
   ]
  },
  {
   "cell_type": "code",
   "execution_count": 23,
   "metadata": {},
   "outputs": [],
   "source": [
    "#setting train and test data\n",
    "train=[[13,15,17],[11,13,17],[12,16,18]]\n",
    "test=[13,15,17]\n",
    "diff=[]\n"
   ]
  },
  {
   "cell_type": "code",
   "execution_count": 24,
   "metadata": {},
   "outputs": [],
   "source": [
    "#Computing the difference matrix\n",
    "for i in range(len(train)):\n",
    " im=[]\n",
    " for j in range(len(test)):\n",
    "  im.append(test[j]-train[i][j])\n",
    " diff.append(im)\n",
    "dist=[]\n"
   ]
  },
  {
   "cell_type": "code",
   "execution_count": 25,
   "metadata": {},
   "outputs": [],
   "source": [
    "#Computing distance using euclidian formula\n",
    "for i in range(len(train)):\n",
    " s=0\n",
    " for j in range(len(test)):\n",
    "  s+=diff[i][j]**2\n",
    " dist.append(s)\n",
    "dict1={} # creating a dictionary to link the train data and the distance calculated\n",
    "for i in range(len(dist)):\n",
    " dict1[dist[i]]=train[i]\n"
   ]
  },
  {
   "cell_type": "code",
   "execution_count": 26,
   "metadata": {},
   "outputs": [
    {
     "data": {
      "text/plain": [
       "[(0, [13, 15, 17]), (3, [12, 16, 18]), (8, [11, 13, 17])]"
      ]
     },
     "execution_count": 26,
     "metadata": {},
     "output_type": "execute_result"
    }
   ],
   "source": [
    "#sorting based on distance\n",
    "dict1=sorted(dict1.items())\n",
    "dict1\n"
   ]
  },
  {
   "cell_type": "code",
   "execution_count": 27,
   "metadata": {},
   "outputs": [
    {
     "data": {
      "text/plain": [
       "[17.0, 17.5, 17.333333333333332]"
      ]
     },
     "execution_count": 27,
     "metadata": {},
     "output_type": "execute_result"
    }
   ],
   "source": [
    "#Using the k values estimating the predicted value\n",
    "predict,s=[],0\n",
    "for i in range(len(dict1)):\n",
    " s+=dict1[i][1][2]\n",
    " predict.append(s/(i+1))\n",
    "predict\n"
   ]
  },
  {
   "cell_type": "code",
   "execution_count": 28,
   "metadata": {},
   "outputs": [
    {
     "data": {
      "text/plain": [
       "[0.0, -2.9411764705882355, -1.9607843137254832]"
      ]
     },
     "execution_count": 28,
     "metadata": {},
     "output_type": "execute_result"
    }
   ],
   "source": [
    "#Estimating the error\n",
    "error=[]\n",
    "for i in range(len(predict)):\n",
    " error.append((test[2]-\n",
    "predict[i])*100/test[2])\n",
    "error"
   ]
  },
  {
   "cell_type": "code",
   "execution_count": 29,
   "metadata": {},
   "outputs": [
    {
     "name": "stdout",
     "output_type": "stream",
     "text": [
      "Accurate value is  17.5\n"
     ]
    }
   ],
   "source": [
    "#based on the least error estimating the predicted value\n",
    "print(\"Accurate value is \",predict[error.index(min(error))])\n",
    "\n"
   ]
  },
  {
   "cell_type": "code",
   "execution_count": null,
   "metadata": {},
   "outputs": [],
   "source": []
  }
 ],
 "metadata": {
  "kernelspec": {
   "display_name": "Python 3",
   "language": "python",
   "name": "python3"
  },
  "language_info": {
   "codemirror_mode": {
    "name": "ipython",
    "version": 3
   },
   "file_extension": ".py",
   "mimetype": "text/x-python",
   "name": "python",
   "nbconvert_exporter": "python",
   "pygments_lexer": "ipython3",
   "version": "3.8.3"
  }
 },
 "nbformat": 4,
 "nbformat_minor": 4
}
